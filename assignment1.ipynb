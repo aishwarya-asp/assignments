{
 "cells": [
  {
   "cell_type": "code",
   "execution_count": 26,
   "metadata": {},
   "outputs": [],
   "source": [
    "#Assignment 1\n",
    "#TASK 1"
   ]
  },
  {
   "cell_type": "code",
   "execution_count": 39,
   "metadata": {},
   "outputs": [
    {
     "name": "stdout",
     "output_type": "stream",
     "text": [
      "2030\n",
      " 2065\n",
      " 2100\n",
      " 2135\n",
      " 2170\n",
      " 2205\n",
      " 2240\n",
      " 2275\n",
      " 2310\n",
      " 2345\n",
      " 2380\n",
      " 2415\n",
      " 2450\n",
      " 2485\n",
      " 2520\n",
      " 2555\n",
      " 2590\n",
      " 2625\n",
      " 2660\n",
      " 2695\n",
      " 2730\n",
      " 2765\n",
      " 2800\n",
      " 2835\n",
      " 2870\n",
      " 2905\n",
      " 2940\n",
      " 2975\n",
      " 3010\n",
      " 3045\n",
      " 3080\n",
      " 3115\n",
      " 3150\n",
      " 3185\n",
      " "
     ]
    }
   ],
   "source": [
    "#2\n",
    "for no in range(2000,3200):\n",
    "    if (no%7==0) and (no%5==0):\n",
    "        print(no,end='\\n ')"
   ]
  },
  {
   "cell_type": "code",
   "execution_count": 1,
   "metadata": {},
   "outputs": [
    {
     "name": "stdout",
     "output_type": "stream",
     "text": [
      "Enter your First_Name : Aishu\n",
      "Enter your First_Name : Patil\n",
      "Patil Aishu\n"
     ]
    }
   ],
   "source": [
    "#3\n",
    "a=input(\"Enter your First_Name : \")\n",
    "b=input(\"Enter your First_Name : \")\n",
    "print(b+\" \"+a)"
   ]
  },
  {
   "cell_type": "code",
   "execution_count": 24,
   "metadata": {},
   "outputs": [
    {
     "name": "stdout",
     "output_type": "stream",
     "text": [
      "value of r:3\n"
     ]
    },
    {
     "data": {
      "text/plain": [
       "113.03999999999999"
      ]
     },
     "execution_count": 24,
     "metadata": {},
     "output_type": "execute_result"
    }
   ],
   "source": [
    "#4\n",
    "r=eval(input(\"value of r:\"))\n",
    "V=4/3*3.14*r**3\n",
    "V"
   ]
  },
  {
   "cell_type": "code",
   "execution_count": null,
   "metadata": {},
   "outputs": [],
   "source": [
    "#TASK2"
   ]
  },
  {
   "cell_type": "code",
   "execution_count": 8,
   "metadata": {},
   "outputs": [
    {
     "name": "stdout",
     "output_type": "stream",
     "text": [
      "Enter a number more than 1 digit : 345,456,7\n",
      "['345', '456', '7'] "
     ]
    }
   ],
   "source": [
    "#1\n",
    "a=input(\"Enter a number more than 1 digit : \")\n",
    "b=a.split(',')\n",
    "print(b, end=\" \")"
   ]
  },
  {
   "cell_type": "code",
   "execution_count": 16,
   "metadata": {},
   "outputs": [
    {
     "name": "stdout",
     "output_type": "stream",
     "text": [
      "* \r\n",
      "* * \r\n",
      "* * * \r\n",
      "* * * * \r\n",
      "* * * * * \r\n",
      "* * * * \r\n",
      "* * * \r\n",
      "* * \r\n",
      "* \r\n"
     ]
    }
   ],
   "source": [
    "#2print(\"pattern\")\n",
    "for i in range(0,5):\n",
    "    for j in range(0,i+1):\n",
    "        print(\"*\",end=\" \")\n",
    "    print(\"\\r\")\n",
    "for i in range(4,0,-1):\n",
    "    for j in range(0,i):\n",
    "        print(\"*\",end=\" \")\n",
    "    print(\"\\r\")"
   ]
  },
  {
   "cell_type": "code",
   "execution_count": 21,
   "metadata": {},
   "outputs": [
    {
     "name": "stdout",
     "output_type": "stream",
     "text": [
      "Enter Input Word : aishwarya\n",
      "ayrawhsia\n"
     ]
    }
   ],
   "source": [
    "#3\n",
    "a=input(\"Enter Input Word : \")\n",
    "print(a[::-1])"
   ]
  },
  {
   "cell_type": "code",
   "execution_count": 15,
   "metadata": {},
   "outputs": [
    {
     "name": "stdout",
     "output_type": "stream",
     "text": [
      "WE,THE PEOPLE OF INDIA,\n",
      " \t having solemnly resolved to constitute india into a SOVEREIGN,! \n",
      " \t \t SOCIALIST,SECULAR,DEMOCRATIC REPUBLIC \n",
      " \t \t  and to secure to all its citizens\n"
     ]
    }
   ],
   "source": [
    "#4\n",
    "print(\"WE,THE PEOPLE OF INDIA,\\n \\t having solemnly resolved to constitute india into a SOVEREIGN,! \\n \\t \\t SOCIALIST,SECULAR,DEMOCRATIC REPUBLIC \\n \\t \\t  and to secure to all its citizens\")"
   ]
  }
 ],
 "metadata": {
  "kernelspec": {
   "display_name": "Python 3",
   "language": "python",
   "name": "python3"
  },
  "language_info": {
   "codemirror_mode": {
    "name": "ipython",
    "version": 3
   },
   "file_extension": ".py",
   "mimetype": "text/x-python",
   "name": "python",
   "nbconvert_exporter": "python",
   "pygments_lexer": "ipython3",
   "version": "3.7.6"
  }
 },
 "nbformat": 4,
 "nbformat_minor": 4
}

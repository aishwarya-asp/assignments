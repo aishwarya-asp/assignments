{
 "cells": [
  {
   "cell_type": "markdown",
   "metadata": {},
   "source": [
    "#TASK 1"
   ]
  },
  {
   "cell_type": "code",
   "execution_count": 1,
   "metadata": {},
   "outputs": [],
   "source": [
    "import numpy\n",
    "import pandas"
   ]
  },
  {
   "cell_type": "markdown",
   "metadata": {},
   "source": [
    "1.1)Wirite a python program to implement your own myreduce() funcyion which works exactly like python's built-in-function reduce()"
   ]
  },
  {
   "cell_type": "code",
   "execution_count": 2,
   "metadata": {},
   "outputs": [
    {
     "name": "stdout",
     "output_type": "stream",
     "text": [
      "Enter a multidigit number:67890\n",
      "Addition is 30\n"
     ]
    }
   ],
   "source": [
    "no=input(\"Enter a multidigit number:\")\n",
    "for i in no:\n",
    "    (i)\n",
    "my_reduce= sum(int(digit) for digit in list(no))\n",
    "print(\"Addition is\",my_reduce)"
   ]
  },
  {
   "cell_type": "markdown",
   "metadata": {},
   "source": [
    "1.2)Wirite a python program to implement your own myfilter() funcyion which works exactly like python's built-in-function filter()"
   ]
  },
  {
   "cell_type": "code",
   "execution_count": 44,
   "metadata": {},
   "outputs": [],
   "source": [
    "def my_filter(x,list_check):\n",
    "    lst=[]\n",
    "    for i in list_check:\n",
    "        if x(i) is True:\n",
    "            lst.append(i)\n",
    "    return lst"
   ]
  },
  {
   "cell_type": "code",
   "execution_count": 45,
   "metadata": {},
   "outputs": [],
   "source": [
    "a=lambda x:x%2>=1\n",
    "seq=[1,2,3,4,5,6,7,8,9]"
   ]
  },
  {
   "cell_type": "code",
   "execution_count": 46,
   "metadata": {},
   "outputs": [
    {
     "data": {
      "text/plain": [
       "[1, 3, 5, 7, 9]"
      ]
     },
     "execution_count": 46,
     "metadata": {},
     "output_type": "execute_result"
    }
   ],
   "source": [
    "my_filter(a,seq)"
   ]
  },
  {
   "cell_type": "markdown",
   "metadata": {},
   "source": [
    "implement list comprehension to produce following list\n",
    "['x', 'xx', 'xxx', 'xxxx', 'y', 'yy', 'yyy', 'yyyy', 'z', 'zz', 'zzz', 'zzzz']\n",
    "['x', 'y', 'z', 'xx', 'yy', 'zz', 'xxx', 'yyy', 'zzz', 'xxxx', 'yyyy', 'zzzz']"
   ]
  },
  {
   "cell_type": "code",
   "execution_count": 3,
   "metadata": {},
   "outputs": [],
   "source": [
    "#1.2)\n",
    "f_list=[]\n",
    "for i in range(1,5):\n",
    "    li_x=i*'x'\n",
    "    f_list.append(li_x)\n",
    "for i in range(1,5):\n",
    "    li_y=i*'y'\n",
    "    f_list.append(li_y)\n",
    "for i in range(1,5):\n",
    "    li_z=i*'z'\n",
    "    f_list.append(li_z)"
   ]
  },
  {
   "cell_type": "code",
   "execution_count": 4,
   "metadata": {},
   "outputs": [
    {
     "data": {
      "text/plain": [
       "['x', 'xx', 'xxx', 'xxxx', 'y', 'yy', 'yyy', 'yyyy', 'z', 'zz', 'zzz', 'zzzz']"
      ]
     },
     "execution_count": 4,
     "metadata": {},
     "output_type": "execute_result"
    }
   ],
   "source": [
    "f_list"
   ]
  },
  {
   "cell_type": "code",
   "execution_count": 5,
   "metadata": {},
   "outputs": [],
   "source": [
    "f_list=[]\n",
    "for i in range(1,5):\n",
    "    li_x=i*'x'\n",
    "    f_list.append(li_x)\n",
    "    li_y=i*'y'\n",
    "    f_list.append(li_y)\n",
    "    li_z=i*'z'\n",
    "    f_list.append(li_z)"
   ]
  },
  {
   "cell_type": "code",
   "execution_count": 6,
   "metadata": {},
   "outputs": [
    {
     "data": {
      "text/plain": [
       "['x', 'y', 'z', 'xx', 'yy', 'zz', 'xxx', 'yyy', 'zzz', 'xxxx', 'yyyy', 'zzzz']"
      ]
     },
     "execution_count": 6,
     "metadata": {},
     "output_type": "execute_result"
    }
   ],
   "source": [
    "f_list"
   ]
  },
  {
   "cell_type": "markdown",
   "metadata": {},
   "source": [
    "2)implement list comprehensions to produce following list\n",
    "[[2], [3], [4], [3], [4], [5], [4], [5], [6]]\n",
    "[[2, 3, 4, 5], [3, 4, 5, 6], [4, 5, 6, 7], [5, 6, 7, 8]]\n",
    "[(1, 1), (1, 2), (1, 3), (2, 1), (2, 2), (2, 3), (3, 1), (3, 2), (3, 3)]"
   ]
  },
  {
   "cell_type": "code",
   "execution_count": 23,
   "metadata": {},
   "outputs": [
    {
     "data": {
      "text/plain": [
       "[2, 3, 4]"
      ]
     },
     "execution_count": 23,
     "metadata": {},
     "output_type": "execute_result"
    }
   ],
   "source": [
    "l_list=[]\n",
    "new_list=[]\n",
    "for i in range(2,3):\n",
    "    l_list.append(i)\n",
    "    l_list.append(i+1)\n",
    "    l_list.append(i+2)\n",
    "    \n",
    "l_list"
   ]
  },
  {
   "cell_type": "code",
   "execution_count": 35,
   "metadata": {},
   "outputs": [
    {
     "data": {
      "text/plain": [
       "[[2, 3, 4, 5], [3, 4, 5, 6], [4, 5, 6, 7], [5, 6, 7, 8]]"
      ]
     },
     "execution_count": 35,
     "metadata": {},
     "output_type": "execute_result"
    }
   ],
   "source": [
    "a_list=[[x+y] for x in range(2,5) for y in range(3)]\n",
    "a_list"
   ]
  },
  {
   "cell_type": "code",
   "execution_count": 36,
   "metadata": {},
   "outputs": [
    {
     "data": {
      "text/plain": [
       "[[2, 3, 4, 5], [3, 4, 5, 6], [4, 5, 6, 7], [5, 6, 7, 8]]"
      ]
     },
     "execution_count": 36,
     "metadata": {},
     "output_type": "execute_result"
    }
   ],
   "source": [
    "b_list=[[x+y for x in range(2,6)] for y in range(4)]\n",
    "b_list"
   ]
  },
  {
   "cell_type": "code",
   "execution_count": 37,
   "metadata": {},
   "outputs": [
    {
     "data": {
      "text/plain": [
       "[(1, 1), (1, 2), (1, 3), (2, 1), (2, 2), (2, 3), (3, 1), (3, 2), (3, 3)]"
      ]
     },
     "execution_count": 37,
     "metadata": {},
     "output_type": "execute_result"
    }
   ],
   "source": [
    "[(i,j) for i in range(1,4) for j in range(1,4)]"
   ]
  },
  {
   "cell_type": "markdown",
   "metadata": {},
   "source": [
    "3)implement a function longestWord() that takes a list of words and returns the longest one"
   ]
  },
  {
   "cell_type": "code",
   "execution_count": 7,
   "metadata": {},
   "outputs": [
    {
     "name": "stdout",
     "output_type": "stream",
     "text": [
      "Enter 5 words maximum and minimum :hdewhyg ygdy hwdgbwy syugdw xsahgdqwwqbhq\n",
      "['hdewhyg', 'ygdy', 'hwdgbwy', 'syugdw', 'xsahgdqwwqbhq']\n"
     ]
    }
   ],
   "source": [
    "a=input(\"Enter 5 words maximum and minimum :\")\n",
    "x=a.split()\n",
    "print(x)"
   ]
  },
  {
   "cell_type": "code",
   "execution_count": 8,
   "metadata": {},
   "outputs": [
    {
     "name": "stdout",
     "output_type": "stream",
     "text": [
      "xsahgdqwwqbhq\n"
     ]
    }
   ],
   "source": [
    "def long_string():\n",
    "    if len(x[0]) >= len(x[1]) and len(x[0]) >= len(x[2]) and len(x[0]) >= len(x[3]) and len(x[0]) >= len(x[4]):\n",
    "        print(x[0])\n",
    "    elif len(x[1]) >= len(x[2]) and len(x[1]) >= len(x[3]) and len(x[1]) >= len(x[4]):\n",
    "        print(x[1])\n",
    "    elif len(x[2]) >= len(x[3]) and len(x[2]) >= len(x[4]):\n",
    "        print(x[2])\n",
    "    elif len(x[3]) >= len(x[4]):\n",
    "        print(x[3])\n",
    "    else:\n",
    "        print(x[4])\n",
    "long_string()"
   ]
  },
  {
   "cell_type": "markdown",
   "metadata": {},
   "source": [
    "TASK 2"
   ]
  },
  {
   "cell_type": "markdown",
   "metadata": {},
   "source": [
    "2.1.2)Write a function filter_long_words() that takes a list of words and an integer n and return the list of words that are longer than n."
   ]
  },
  {
   "cell_type": "code",
   "execution_count": 42,
   "metadata": {},
   "outputs": [
    {
     "data": {
      "text/plain": [
       "['Aishwarya']"
      ]
     },
     "execution_count": 42,
     "metadata": {},
     "output_type": "execute_result"
    }
   ],
   "source": [
    "x=['asp','aishu','Aishwarya','patil']\n",
    "n=5\n",
    "def long_woord(a1,b):\n",
    "    long_woord=[]\n",
    "    for i in a1:\n",
    "        if len(i)>b:\n",
    "            long_woord.append(i)\n",
    "    return long_woord\n",
    "long_woord(x,n)"
   ]
  },
  {
   "cell_type": "markdown",
   "metadata": {},
   "source": [
    "2.2.2)Write a python function which takes a character (i.e a string of length 1) and return true if it is a vowel,false otherwise"
   ]
  },
  {
   "cell_type": "code",
   "execution_count": 43,
   "metadata": {},
   "outputs": [
    {
     "name": "stdout",
     "output_type": "stream",
     "text": [
      "enter ONLY 1 letter : a\n",
      "True\n"
     ]
    },
    {
     "data": {
      "text/plain": [
       "'a'"
      ]
     },
     "execution_count": 43,
     "metadata": {},
     "output_type": "execute_result"
    }
   ],
   "source": [
    "def findvowels(a):\n",
    "    if (a=='a' or a=='e' or a=='i' or a=='o' or a=='u'):\n",
    "        print(\"True\")\n",
    "    else:\n",
    "        print(\"False\")\n",
    "    return a\n",
    "a=input(\"enter ONLY 1 letter : \").lower()\n",
    "findvowels(a)"
   ]
  }
 ],
 "metadata": {
  "kernelspec": {
   "display_name": "Python 3",
   "language": "python",
   "name": "python3"
  },
  "language_info": {
   "codemirror_mode": {
    "name": "ipython",
    "version": 3
   },
   "file_extension": ".py",
   "mimetype": "text/x-python",
   "name": "python",
   "nbconvert_exporter": "python",
   "pygments_lexer": "ipython3",
   "version": "3.7.6"
  }
 },
 "nbformat": 4,
 "nbformat_minor": 4
}

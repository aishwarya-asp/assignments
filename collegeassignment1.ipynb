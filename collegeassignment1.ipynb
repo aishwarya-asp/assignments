{
 "cells": [
  {
   "cell_type": "code",
   "execution_count": 1,
   "metadata": {},
   "outputs": [
    {
     "name": "stdout",
     "output_type": "stream",
     "text": [
      "Enter a Year : 1998\n",
      "Enter a Month : 1\n",
      "    January 1998\n",
      "Mo Tu We Th Fr Sa Su\n",
      "          1  2  3  4\n",
      " 5  6  7  8  9 10 11\n",
      "12 13 14 15 16 17 18\n",
      "19 20 21 22 23 24 25\n",
      "26 27 28 29 30 31\n",
      "\n"
     ]
    }
   ],
   "source": [
    "#1)WAP to find out calender of given month and year using calender module.\n",
    "import calendar\n",
    "y=eval(input(\"Enter a Year : \"))\n",
    "m=eval(input(\"Enter a Month : \"))\n",
    "print(calendar.month(y,m))"
   ]
  },
  {
   "cell_type": "code",
   "execution_count": 4,
   "metadata": {},
   "outputs": [
    {
     "name": "stdout",
     "output_type": "stream",
     "text": [
      "your birth date : (dd mm yyyy)\n",
      "Enter birth date 26 1 98\n",
      "22\n"
     ]
    }
   ],
   "source": [
    "#2)WAP to calculate your current age\n",
    "import calendar\n",
    "from datetime import datetime,date\n",
    "print(\"your birth date : (dd mm yyyy)\")\n",
    "dob = datetime.strptime(input(\"Enter birth date \"),\"%d %m %y\")\n",
    "\n",
    "def cal_age(born):\n",
    "    today=date.today()\n",
    "    return today.year - born.year - ((today.month,today.day)<(born.month,born.day))\n",
    "age = cal_age(dob)\n",
    "print(age)"
   ]
  },
  {
   "cell_type": "code",
   "execution_count": 5,
   "metadata": {},
   "outputs": [],
   "source": [
    "import datetime"
   ]
  },
  {
   "cell_type": "code",
   "execution_count": 6,
   "metadata": {},
   "outputs": [
    {
     "name": "stdout",
     "output_type": "stream",
     "text": [
      "current date and time : \n",
      "2020-58-26\n",
      "19:58:37\n"
     ]
    }
   ],
   "source": [
    "#3\n",
    "now=datetime.datetime.now()\n",
    "print(\"current date and time : \")\n",
    "print(now.strftime(\"%Y-%M-%d\\n%H:%M:%S\"))"
   ]
  },
  {
   "cell_type": "code",
   "execution_count": 45,
   "metadata": {},
   "outputs": [
    {
     "name": "stdout",
     "output_type": "stream",
     "text": [
      "Addition :  6\n",
      "Subtraction :  7\n",
      "Multiplication :  36\n",
      "Division :  30.75\n",
      "Integer Division :  30\n",
      "Mod(Reminder) :  3\n"
     ]
    }
   ],
   "source": [
    "#4)Write a function do all airthmatic oprations\n",
    "def add(a,b):\n",
    "    s=a+b\n",
    "    return s\n",
    "def sub (a,b):\n",
    "    sub=a-b\n",
    "    return sub\n",
    "def mul(a,b):\n",
    "    m=a*b\n",
    "    return m\n",
    "def div(a,b):\n",
    "    d=a/b\n",
    "    return d\n",
    "def adiv(a,b):\n",
    "    ad=a//b\n",
    "    return ad\n",
    "def mod(a,b):\n",
    "    mo=a%b\n",
    "    return mo\n",
    "print(\"Addition : \",add(2,4))\n",
    "print(\"Subtraction : \",sub(10,3))\n",
    "print(\"Multiplication : \",mul(12,3))\n",
    "print(\"Division : \",div(123,4))\n",
    "print(\"Integer Division : \",adiv(123,4))\n",
    "print(\"Mod(Reminder) : \",mod(123,4))"
   ]
  },
  {
   "cell_type": "code",
   "execution_count": null,
   "metadata": {},
   "outputs": [],
   "source": [
    "#5)Find GCD and LCM\n",
    "from functools import reduce\n",
    "from fractions import gcd\n",
    "def gcd(*c):\n",
    "    return reduce(gcd,c)\n",
    "#def lcm(a,b):\n",
    "#    return a*b/gcd(a,b)\n",
    "gcd(30,40)"
   ]
  },
  {
   "cell_type": "code",
   "execution_count": 11,
   "metadata": {},
   "outputs": [
    {
     "name": "stdout",
     "output_type": "stream",
     "text": [
      "enter a string : Zeal education society\n",
      "ZEAL EDUCATION SOCIETY\n",
      "Number of vowels : \n",
      "10\n",
      "Remaning letters : \n",
      "12\n"
     ]
    }
   ],
   "source": [
    "#6)WAP to count of vowels and count remainning letters in given string \n",
    "str=input(\"enter a string : \")\n",
    "a=str.upper()\n",
    "print(a)\n",
    "vowels=0\n",
    "for i in a:\n",
    "    if (i=='A' or i=='E' or i=='I' or i=='O' or i=='U'):\n",
    "        vowels=vowels+1\n",
    "print(\"Number of vowels : \")\n",
    "print(vowels)\n",
    "print(\"Remaning letters : \")\n",
    "print(len(str)-vowels)"
   ]
  },
  {
   "cell_type": "code",
   "execution_count": 36,
   "metadata": {},
   "outputs": [
    {
     "name": "stdout",
     "output_type": "stream",
     "text": [
      "Enter a year : 1998\n",
      "Enter a month (1 to 12) : 5\n",
      "Enter a day (1-31) : 16\n",
      "the next date is [yyyy-mm-dd] :1998-5-17.\n"
     ]
    }
   ],
   "source": [
    "#7)WAP to display next day of given date\n",
    "year=eval(input(\"Enter a year : \"))\n",
    "if (year % 400 == 0):\n",
    "    leap_year = True\n",
    "elif (year % 100 == 0):\n",
    "    leap_year = False\n",
    "elif (year % 4 == 0):\n",
    "    leap_year = True\n",
    "else:\n",
    "    leap_year =False\n",
    "\n",
    "    \n",
    "month = eval(input(\"Enter a month (1 to 12) : \"))\n",
    "\n",
    "if month in range(0,12,2):\n",
    "    month_length=31\n",
    "elif month==2:\n",
    "    if leap_year:\n",
    "        month_lenght = 29\n",
    "    else:\n",
    "        month_length = 28\n",
    "else:\n",
    "    month_length = 30\n",
    "    \n",
    "\n",
    "day = eval(input(\"Enter a day (1-31) : \"))\n",
    "if day < month_length:\n",
    "    day +=1\n",
    "else:\n",
    "    month +=1\n",
    "print(\"the next date is [yyyy-mm-dd] :\"  \"%d-%d-%d.\" %(year,month,day))"
   ]
  },
  {
   "cell_type": "code",
   "execution_count": 7,
   "metadata": {},
   "outputs": [
    {
     "name": "stdout",
     "output_type": "stream",
     "text": [
      "Enter a string : Rohit Patil\n",
      "No of spaces in given string :  1\n"
     ]
    }
   ],
   "source": [
    "#8)WAP to calculate no of spaces in given string and print it\n",
    "str=input(\"Enter a string : \")\n",
    "print(\"No of spaces in given string : \",str.count(' '))"
   ]
  },
  {
   "cell_type": "code",
   "execution_count": 29,
   "metadata": {},
   "outputs": [
    {
     "name": "stdout",
     "output_type": "stream",
     "text": [
      "True\n",
      "False\n"
     ]
    }
   ],
   "source": [
    "#9)WAP to find out digit and NON digit in given string\n",
    "a='1234'\n",
    "print(a.isdigit())\n",
    "\n",
    "b='djhg678'\n",
    "print(b.isdigit())"
   ]
  },
  {
   "cell_type": "code",
   "execution_count": 8,
   "metadata": {},
   "outputs": [
    {
     "name": "stdout",
     "output_type": "stream",
     "text": [
      "[0]\n",
      "[0, -6]\n",
      "[0, -6, -8]\n",
      "[0, -6, -8, 1]\n",
      "[-6, -8]\n",
      "[1]\n"
     ]
    }
   ],
   "source": [
    "#10)WAP to find out the unique values from the list and display from the list (without using set and build-in functions)\n",
    "from random import random\n",
    "a=[]\n",
    "for i in range(4):\n",
    "    n=int(random()*20)-10\n",
    "    a.append(n)\n",
    "    print(a)\n",
    "    neg=[]\n",
    "    pos=[]\n",
    "    for i in a:\n",
    "        if i < 0:\n",
    "            neg.append(i)\n",
    "        elif i> 0:\n",
    "            pos.append(i)\n",
    "            print(neg)\n",
    "            print(pos)"
   ]
  },
  {
   "cell_type": "code",
   "execution_count": 12,
   "metadata": {},
   "outputs": [
    {
     "name": "stdout",
     "output_type": "stream",
     "text": [
      "Enter the filename : zeal.py\n",
      "The extention of file is : 'py'\n"
     ]
    }
   ],
   "source": [
    "#11)WAP to find extention of given file\n",
    "fname=input(\"Enter the filename : \")\n",
    "f_ex=fname.split(\".\")\n",
    "print(\"The extention of file is : \"+repr(f_ex[-1]))"
   ]
  },
  {
   "cell_type": "code",
   "execution_count": null,
   "metadata": {},
   "outputs": [],
   "source": [
    "#12)WAP to validate input email id using regular package (use remodule)"
   ]
  },
  {
   "cell_type": "code",
   "execution_count": 13,
   "metadata": {},
   "outputs": [
    {
     "name": "stdout",
     "output_type": "stream",
     "text": [
      "Enter your email address : zeal@gmail.com\n",
      "Email is invalid\n"
     ]
    }
   ],
   "source": [
    "import re\n",
    "email=input(\"Enter your email address : \")\n",
    "if re.match (\"A(?P<name>[\\w\\-_]+)@(?P<domain>[\\w\\-_]+).\" \"(?P<toplevel>[\\w]+)\\Z\",email,re.IGNORECASE):\n",
    "    print(\"Email is valid\")\n",
    "else:\n",
    "    print(\"Email is invalid\")"
   ]
  },
  {
   "cell_type": "code",
   "execution_count": 9,
   "metadata": {},
   "outputs": [
    {
     "name": "stdout",
     "output_type": "stream",
     "text": [
      "['rohit', 'pratik', 'sanket', 'shital', 'Abhishek']\n",
      "Abhishek\n",
      "['rohit', 'pratik', 'sanket', 'shital']\n",
      "shital\n",
      "['rohit', 'pratik', 'sanket']\n",
      "<class 'list'>\n",
      "('rohit', 'pratik', 'sanket')\n",
      "<class 'tuple'>\n"
     ]
    }
   ],
   "source": [
    "#13)WAP to do stack operations on list and convert it into tuple\n",
    "a=[\"rohit\",\"pratik\",\"sanket\"]\n",
    "a.append(\"shital\")\n",
    "a.append(\"Abhishek\")\n",
    "print(a)\n",
    "print(a.pop())\n",
    "print(a)\n",
    "print(a.pop())\n",
    "print(a)\n",
    "print(type(a))\n",
    "print(tuple(a)) \n",
    "print(type(tuple(a)))"
   ]
  },
  {
   "cell_type": "code",
   "execution_count": 19,
   "metadata": {},
   "outputs": [
    {
     "name": "stdout",
     "output_type": "stream",
     "text": [
      "Enter File Name : ap.txt\n",
      "Count of letters in given file :  11\n"
     ]
    }
   ],
   "source": [
    "#14)WAP to read file and count all letter and display\n",
    "fname=input(\"Enter File Name : \")\n",
    "f=open(fname,'r')\n",
    "letters=0\n",
    "for line in f:\n",
    "    letters+=len(line)\n",
    "print(\"Count of letters in given file : \",letters)"
   ]
  },
  {
   "cell_type": "code",
   "execution_count": 20,
   "metadata": {},
   "outputs": [
    {
     "data": {
      "text/plain": [
       "120"
      ]
     },
     "execution_count": 20,
     "metadata": {},
     "output_type": "execute_result"
    }
   ],
   "source": [
    "#15)WAP to create a module of factorial and use it in program\n",
    "def fact(n):\n",
    "    if n==1:\n",
    "        return 1\n",
    "    else:\n",
    "        return(n*fact(n-1))\n",
    "\n",
    "def check_sum(a):\n",
    "    if a > 0:\n",
    "        print(a,\" it is a positive number\")\n",
    "    elif a == 0:\n",
    "        print(a,\"number is = zero\")\n",
    "    else:\n",
    "        print(a,\"it is a negative number\")    \n",
    "fact(5)"
   ]
  },
  {
   "cell_type": "code",
   "execution_count": 10,
   "metadata": {},
   "outputs": [
    {
     "name": "stdout",
     "output_type": "stream",
     "text": [
      "11\n"
     ]
    }
   ],
   "source": [
    "#17)WAP to find length of each line\n",
    "f=open(\"ap.txt\",\"r\")\n",
    "text=f.readlines()\n",
    "for i in text:\n",
    "    print(len(i))"
   ]
  },
  {
   "cell_type": "code",
   "execution_count": 11,
   "metadata": {},
   "outputs": [
    {
     "name": "stdout",
     "output_type": "stream",
     "text": [
      "new content\n",
      "tnetnoc wen\n"
     ]
    }
   ],
   "source": [
    "#18)WAP to read line of the file and reverse the line\n",
    "import os\n",
    "with open(\"ap.txt\",\"w\") as f:\n",
    "    f.write(\"new content\")\n",
    "f=open(\"ap.txt\",mode=\"r\")\n",
    "f.read()\n",
    "for i in f:\n",
    "    i+=i\n",
    "print(i)\n",
    "print(i[::-1])"
   ]
  },
  {
   "cell_type": "code",
   "execution_count": 12,
   "metadata": {},
   "outputs": [
    {
     "name": "stdout",
     "output_type": "stream",
     "text": [
      "FileNotFoundError: [Errno 2] No such file or directory: 'ak'\n"
     ]
    }
   ],
   "source": [
    "#19)WAP to handle Exception of opening in file\n",
    "try:\n",
    "    f=open(\"ap\",\"r\")\n",
    "    f.write(\"Exception\")\n",
    "except IOError:\n",
    "    print(\"FileNotFoundError: [Errno 2] No such file or directory: 'ak'\")\n",
    "else:\n",
    "    print(\"File updated sucessfully\")\n",
    "finally:\n",
    "    f.close()"
   ]
  },
  {
   "cell_type": "code",
   "execution_count": 13,
   "metadata": {},
   "outputs": [
    {
     "data": {
      "text/plain": [
       "6"
      ]
     },
     "execution_count": 13,
     "metadata": {},
     "output_type": "execute_result"
    }
   ],
   "source": [
    "#20)WAP to user defined module to find factorial of given number\n",
    "def fact(n):\n",
    "    if n==1:\n",
    "        return 1\n",
    "    else:\n",
    "        return(n*fact(n-1))\n",
    "\n",
    "def check_sum(a):\n",
    "    if a > 0:\n",
    "        print(a,\" it is a positive number\")\n",
    "    elif a == 0:\n",
    "        print(a,\"number is = zero\")\n",
    "    else:\n",
    "        print(a,\"it is a negative number\")    \n",
    "fact(3)"
   ]
  },
  {
   "cell_type": "code",
   "execution_count": 30,
   "metadata": {},
   "outputs": [
    {
     "name": "stdout",
     "output_type": "stream",
     "text": [
      "ZEAL False\n",
      "ZIBACAR True\n"
     ]
    }
   ],
   "source": [
    "#21)WAP to implement inheritance in python \n",
    "class Person(object):\n",
    "    def __init__(self,name):\n",
    "        self.name=name\n",
    "        \n",
    "    def getName(self):\n",
    "        return self.name\n",
    "    \n",
    "    def isEmployee(self):\n",
    "        return False\n",
    "    \n",
    "class Employee(Person):\n",
    "        def isEmployee(self):\n",
    "            return True\n",
    "        \n",
    "emp=Person(\"ZEAL\")\n",
    "print(emp.getName(),emp.isEmployee())\n",
    "\n",
    "emp=Employee(\"ZIBACAR\")\n",
    "print(emp.getName(),emp.isEmployee())"
   ]
  },
  {
   "cell_type": "code",
   "execution_count": 14,
   "metadata": {},
   "outputs": [
    {
     "name": "stdout",
     "output_type": "stream",
     "text": [
      "Rohit\n",
      "22\n"
     ]
    }
   ],
   "source": [
    "#22)WAP to generate own program class\n",
    "class Human:\n",
    "    def __init__(self, name, age) :\n",
    "        self.name=name\n",
    "        self.age=age\n",
    "    \n",
    "H1=Human(\"Rohit\",22)\n",
    "print(H1.name)\n",
    "print(H1.age)"
   ]
  }
 ],
 "metadata": {
  "kernelspec": {
   "display_name": "Python 3",
   "language": "python",
   "name": "python3"
  },
  "language_info": {
   "codemirror_mode": {
    "name": "ipython",
    "version": 3
   },
   "file_extension": ".py",
   "mimetype": "text/x-python",
   "name": "python",
   "nbconvert_exporter": "python",
   "pygments_lexer": "ipython3",
   "version": "3.7.6"
  }
 },
 "nbformat": 4,
 "nbformat_minor": 4
}
